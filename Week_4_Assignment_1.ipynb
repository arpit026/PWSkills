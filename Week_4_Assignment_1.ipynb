{
 "cells": [
  {
   "cell_type": "markdown",
   "id": "4ac63b16-7b1f-44be-8572-1c7dfbce7419",
   "metadata": {},
   "source": [
    "Week_4_Assignmemt_1"
   ]
  },
  {
   "cell_type": "markdown",
   "id": "a475715e-cedc-4e8c-9a75-6712dc10d723",
   "metadata": {},
   "source": [
    "Q1, Create a vehicle class with an init method having instance variables as name_of_vehicle, max_speed\n",
    "and average_of_vehicle. "
   ]
  },
  {
   "cell_type": "code",
   "execution_count": 9,
   "id": "c5c4a0dc-4829-45c7-b62d-274d89c4787c",
   "metadata": {},
   "outputs": [],
   "source": [
    "#Answer 1:\n",
    "class vehicle :\n",
    "    def __init__(self, name_of_vehicle, max_speed, average_of_vehicle):\n",
    "        self.name_of_vehicle = name_of_vehicle\n",
    "        self.max_speed = max_speed\n",
    "        self.average_of_vehicle = average_of_vehicle"
   ]
  },
  {
   "cell_type": "markdown",
   "id": "cfaed396-e030-46eb-88ab-89cd07dee2d2",
   "metadata": {},
   "source": [
    "Q2.  Create a child class car from the vehicle class created in Que 1, which will inherit the vehicle class.\n",
    "Create a method named seating_capacity which takes capacity as an argument and returns the name of\n",
    "the vehicle and its seating capacity."
   ]
  },
  {
   "cell_type": "code",
   "execution_count": 13,
   "id": "f9413927-25a7-4ca0-8a81-63de8c133cf3",
   "metadata": {},
   "outputs": [],
   "source": [
    "#Answer 2:\n",
    "class car(vehicle):\n",
    "    def seating_capacity(self, capacity):\n",
    "        return f\"The {self.name_of_vehicle} has a capacity of {capacity} people\""
   ]
  },
  {
   "cell_type": "code",
   "execution_count": 14,
   "id": "c0e5059b-7f7e-41cf-8b0f-83a90b35029d",
   "metadata": {},
   "outputs": [
    {
     "name": "stdout",
     "output_type": "stream",
     "text": [
      "The Hyundai has a capacity of 5 people\n"
     ]
    }
   ],
   "source": [
    "car1 = car(\"Hyundai\", 220, 14)\n",
    "print(car1.seating_capacity(5))"
   ]
  },
  {
   "cell_type": "markdown",
   "id": "18c8a9d8-10e3-41dd-ac38-b613b33f356d",
   "metadata": {},
   "source": [
    "Q3. What is multiple inheritance? Write a python code to demonstrate multiple inheritance."
   ]
  },
  {
   "cell_type": "markdown",
   "id": "05796a23-8ae1-4a80-9a72-ab6d1d313606",
   "metadata": {},
   "source": [
    "Answer3:\n",
    "Multiple inheritance is a feature in object-oriented programming where a class can inherit attributes and methods from more than one parent class. This allows a child class to inherit and combine the characteristics of multiple parent classes."
   ]
  },
  {
   "cell_type": "code",
   "execution_count": 26,
   "id": "d460b69c-10ea-4590-9021-e98e02546b02",
   "metadata": {},
   "outputs": [],
   "source": [
    "class class_1:\n",
    "    def method1(self):\n",
    "        return(\"This is\") "
   ]
  },
  {
   "cell_type": "code",
   "execution_count": 27,
   "id": "94ad8999-dc2f-4cb2-8742-cd7c5a2e3bbf",
   "metadata": {},
   "outputs": [],
   "source": [
    "class class_2:\n",
    "    def method2(self):\n",
    "        return(\"Inheritance\")"
   ]
  },
  {
   "cell_type": "code",
   "execution_count": 28,
   "id": "c8bf4350-520c-4c71-9897-f955d648aafe",
   "metadata": {},
   "outputs": [],
   "source": [
    "class class_3(class_1,class_2):\n",
    "    pass"
   ]
  },
  {
   "cell_type": "code",
   "execution_count": 29,
   "id": "f34d5500-2ba0-406d-bd18-54edd175c45a",
   "metadata": {},
   "outputs": [],
   "source": [
    "class_3obj = class_3()"
   ]
  },
  {
   "cell_type": "code",
   "execution_count": 30,
   "id": "d273005e-1e56-4e07-b44e-0419aa504883",
   "metadata": {},
   "outputs": [
    {
     "name": "stdout",
     "output_type": "stream",
     "text": [
      "This is\n",
      "Inheritance\n"
     ]
    }
   ],
   "source": [
    "print(class_3obj.method1())\n",
    "print(class_3obj.method2())"
   ]
  },
  {
   "cell_type": "markdown",
   "id": "93613c0c-681a-4a7e-aede-cd5fd34be0da",
   "metadata": {},
   "source": [
    "Q4. What are getter and setter in python? Create a class and create a getter and a setter method in this\n",
    "class."
   ]
  },
  {
   "cell_type": "markdown",
   "id": "884b5c00-c80c-4760-849b-c0925f7c583c",
   "metadata": {},
   "source": [
    "Answer 4: getter and setter methods are used to encapsulate the access and modification of class attributes. They provide a way to retrieve (get) and update (set) the values of private or protected attributes of a class. Getter methods are used to retrieve the value of an attribute, while setter methods are used to update or set the value of an attribute."
   ]
  },
  {
   "cell_type": "code",
   "execution_count": 36,
   "id": "95bcfe74-1b94-40f9-8cd6-d4b7cf7c9608",
   "metadata": {},
   "outputs": [
    {
     "name": "stdout",
     "output_type": "stream",
     "text": [
      "Arpit\n",
      "Verma\n"
     ]
    }
   ],
   "source": [
    "class Person:\n",
    "    def __init__(self):\n",
    "        self._name = None\n",
    "    def get_name(self):\n",
    "        return self._name\n",
    "    def set_name(self, name):\n",
    "        self._name = name\n",
    "person = Person()\n",
    "\n",
    "person.set_name(\"Arpit\")\n",
    "print(person.get_name())\n",
    "\n",
    "person.set_name(\"Verma\")\n",
    "print(person.get_name())"
   ]
  },
  {
   "cell_type": "markdown",
   "id": "a39ab350-181a-46c5-8328-72af5bbd55d1",
   "metadata": {},
   "source": [
    "Q5.What is method overriding in python? Write a python code to demonstrate method overriding."
   ]
  },
  {
   "cell_type": "markdown",
   "id": "7f8266f4-8a33-4f60-ad9b-d88f910dee6b",
   "metadata": {},
   "source": [
    "Answer 5: A feature of object-oriented programming that allows a subclass to provide a different implementation of a method that is already defined in its parent class. This allows the subclass to modify or extend the behavior of the inherited method."
   ]
  },
  {
   "cell_type": "code",
   "execution_count": 39,
   "id": "dc91be3c-a7ca-4800-bd3f-476ab219217e",
   "metadata": {},
   "outputs": [
    {
     "name": "stdout",
     "output_type": "stream",
     "text": [
      "Vehicle is starting.\n",
      "Car is starting.\n"
     ]
    }
   ],
   "source": [
    "class Vehicle:\n",
    "    def start(self):\n",
    "        print(\"Vehicle is starting.\")\n",
    "class Car(Vehicle):\n",
    "    def start(self):\n",
    "        print(\"Car is starting.\")\n",
    "vehicle = Vehicle()\n",
    "vehicle.start()\n",
    "car = Car()\n",
    "car.start()\n"
   ]
  },
  {
   "cell_type": "code",
   "execution_count": null,
   "id": "1df58b7b-63ad-41cb-b88d-4fdaaaa941a3",
   "metadata": {},
   "outputs": [],
   "source": []
  }
 ],
 "metadata": {
  "kernelspec": {
   "display_name": "Python 3 (ipykernel)",
   "language": "python",
   "name": "python3"
  },
  "language_info": {
   "codemirror_mode": {
    "name": "ipython",
    "version": 3
   },
   "file_extension": ".py",
   "mimetype": "text/x-python",
   "name": "python",
   "nbconvert_exporter": "python",
   "pygments_lexer": "ipython3",
   "version": "3.10.8"
  }
 },
 "nbformat": 4,
 "nbformat_minor": 5
}
