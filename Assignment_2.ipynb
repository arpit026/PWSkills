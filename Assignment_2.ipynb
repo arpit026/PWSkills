{
 "cells": [
  {
   "cell_type": "markdown",
   "id": "6e4d3508-bac9-49db-bff8-3a7431ee9fc4",
   "metadata": {},
   "source": [
    "Assignment-2"
   ]
  },
  {
   "cell_type": "markdown",
   "id": "86338705-cda3-4181-a9d9-32a75f482b25",
   "metadata": {},
   "source": [
    "Q1. How do you comment code in Python? What are the different types of comments?"
   ]
  },
  {
   "cell_type": "code",
   "execution_count": 5,
   "id": "48f6e6a8-3706-4ea7-852d-7b2e38b11a29",
   "metadata": {},
   "outputs": [
    {
     "data": {
      "text/plain": [
       "'There are three types of Comment\\n1. Single line Comments\\n2. Multiline Comments\\n3. Docstring Comments'"
      ]
     },
     "execution_count": 5,
     "metadata": {},
     "output_type": "execute_result"
    }
   ],
   "source": [
    "#Ans1- this is a comment.\n",
    "\"\"\"There are three types of Comment\n",
    "1. Single line Comments\n",
    "2. Multiline Comments\n",
    "3. Docstring Comments\"\"\"\n"
   ]
  },
  {
   "cell_type": "markdown",
   "id": "7b08f83c-3050-4ad3-b801-96a593550bbb",
   "metadata": {},
   "source": [
    "Q2. What are variables in Python? How do you declare and assign values to variables?"
   ]
  },
  {
   "cell_type": "code",
   "execution_count": 11,
   "id": "94f841ad-d151-415c-baf6-707240c8df25",
   "metadata": {},
   "outputs": [],
   "source": [
    "#Answer 2- Variables are containers used to store data values.\n",
    "variable = 'value' #this is a string data type variable\n",
    "var = 15 #integer data type variable \n",
    "var2 = 12.37 #float data type variable"
   ]
  },
  {
   "cell_type": "markdown",
   "id": "6564b9cc-5ffb-4bb8-ab91-c3f1e0b34cbf",
   "metadata": {},
   "source": [
    "Q3. How do you convert one data type to another in Python?"
   ]
  },
  {
   "cell_type": "code",
   "execution_count": 20,
   "id": "5e71f9a4-dc61-4339-b56b-7b0cf2ca4fa0",
   "metadata": {},
   "outputs": [
    {
     "name": "stdout",
     "output_type": "stream",
     "text": [
      "Arpit10\n"
     ]
    }
   ],
   "source": [
    "#Answer 3\n",
    "x = 10\n",
    "y = 'Arpit'\n",
    "\n",
    "z = y + str(x) #The variable x is typecasted to string data type variable.\n",
    "print(z)\n",
    "\n"
   ]
  },
  {
   "cell_type": "markdown",
   "id": "b5fe43f4-17a6-49f4-97ad-86f8c8d57095",
   "metadata": {},
   "source": [
    "Q4. How do you write and execute a Python script from the command line?"
   ]
  },
  {
   "cell_type": "code",
   "execution_count": 23,
   "id": "a757d37e-6696-431a-a313-89ecb6c6cc87",
   "metadata": {},
   "outputs": [],
   "source": [
    "#Answer 4- To run a python script store in a ‘.py’ file in command line we have to write ‘python’ keyword before the file name in the command prompt.\n",
    "#python filename.py"
   ]
  },
  {
   "cell_type": "markdown",
   "id": "593176a8-98fc-4e88-bf20-57c621af429a",
   "metadata": {},
   "source": [
    "Q5. Given a list my_list = [1, 2, 3, 4, 5], write the code to slice the list and obtain the sub-list [2, 3]."
   ]
  },
  {
   "cell_type": "code",
   "execution_count": 27,
   "id": "76a17955-9b6f-4d40-a4ed-3d777054fcf9",
   "metadata": {},
   "outputs": [
    {
     "name": "stdout",
     "output_type": "stream",
     "text": [
      "[2, 3]\n"
     ]
    }
   ],
   "source": [
    "#Answer 5\n",
    "my_list = [1,2,3,4,5]\n",
    "sub_list = my_list[1:3]\n",
    "print(sub_list)"
   ]
  },
  {
   "cell_type": "markdown",
   "id": "f9f20810-e854-4edf-a1aa-cb2b1341ee7c",
   "metadata": {},
   "source": [
    "Q6. What is a complex number in mathematics, and how is it represented in Python?"
   ]
  },
  {
   "cell_type": "code",
   "execution_count": 32,
   "id": "9256fb97-a8dd-4b43-aa32-643a988b2818",
   "metadata": {},
   "outputs": [
    {
     "name": "stdout",
     "output_type": "stream",
     "text": [
      "<class 'complex'>\n"
     ]
    }
   ],
   "source": [
    "#Answer 6- In mathematics, a complex number is an element of a number system that extends the real numbers with a specific element denoted i, called the imaginary unit; every complex number can be expressed in the form a + bi, where a and b are real numbers.\n",
    "#In Python, complex numbers are supported as a built-in data type. To represent a complex number in Python, you can use the j or J suffix to indicate the imaginary part.\n",
    "z = 3 + 4j\n",
    "print(type(z))"
   ]
  },
  {
   "cell_type": "markdown",
   "id": "c68d3d0c-e8c3-48df-9ab0-3a1488fafa11",
   "metadata": {},
   "source": [
    "Q7. What is the correct way to declare a variable named age and assign the value 25 to it?"
   ]
  },
  {
   "cell_type": "code",
   "execution_count": 37,
   "id": "6b5fad96-58ed-4692-ab03-5ac0b9e2d5fc",
   "metadata": {},
   "outputs": [
    {
     "data": {
      "text/plain": [
       "25"
      ]
     },
     "execution_count": 37,
     "metadata": {},
     "output_type": "execute_result"
    }
   ],
   "source": [
    "#Answer 7-\n",
    "age = 25\n",
    "age"
   ]
  },
  {
   "cell_type": "markdown",
   "id": "e211542a-c7c3-41e0-a78d-7f9a1aa15f9c",
   "metadata": {},
   "source": [
    "Q8. Declare a variable named price and assign the value 9.99 to it. What data type does this variable \n",
    "belong to?"
   ]
  },
  {
   "cell_type": "code",
   "execution_count": 39,
   "id": "931263b6-1df3-4d10-8072-30d2c82813a0",
   "metadata": {},
   "outputs": [
    {
     "name": "stdout",
     "output_type": "stream",
     "text": [
      "<class 'float'>\n"
     ]
    }
   ],
   "source": [
    "#Answer 8 -\n",
    "price = 9.99\n",
    "print(type(price))"
   ]
  },
  {
   "cell_type": "markdown",
   "id": "341bd71d-4ade-4d28-9ab1-532d1e788900",
   "metadata": {},
   "source": [
    "Q9. Create a variable named name and assign your full name to it as a string. How would you print the \n",
    "value of this variable?"
   ]
  },
  {
   "cell_type": "code",
   "execution_count": 41,
   "id": "3d24eb67-0477-4fae-9ebb-92dc9e2dd891",
   "metadata": {},
   "outputs": [
    {
     "name": "stdout",
     "output_type": "stream",
     "text": [
      "Arpit Kumar Verma\n"
     ]
    }
   ],
   "source": [
    "#Answer 9-\n",
    "name = \"Arpit Kumar Verma\"\n",
    "print(name)"
   ]
  },
  {
   "cell_type": "markdown",
   "id": "8dd45c82-06c0-4be6-b360-91be2fbb5f86",
   "metadata": {},
   "source": [
    "Q10. Given the string \"Hello, World!\", extract the substring \"World\"."
   ]
  },
  {
   "cell_type": "code",
   "execution_count": 43,
   "id": "3719d1d5-24ef-45ad-8c65-906115a54191",
   "metadata": {},
   "outputs": [
    {
     "name": "stdout",
     "output_type": "stream",
     "text": [
      "World\n"
     ]
    }
   ],
   "source": [
    "#Answer 10-\n",
    "str1 = \"Hello, World!\"\n",
    "substring = str1[7:12]\n",
    "print(substring)"
   ]
  },
  {
   "cell_type": "markdown",
   "id": "2c4e13d3-3978-453e-baed-e738d045a94a",
   "metadata": {},
   "source": [
    "Q11. Create a variable named \"is_student\" and assign it a boolean value indicating whether you are \n",
    "currently a student or not."
   ]
  },
  {
   "cell_type": "code",
   "execution_count": 46,
   "id": "84fa71e9-359e-4540-bdfc-9622ed850c8c",
   "metadata": {},
   "outputs": [
    {
     "data": {
      "text/plain": [
       "False"
      ]
     },
     "execution_count": 46,
     "metadata": {},
     "output_type": "execute_result"
    }
   ],
   "source": [
    "#Answer 11-\n",
    "is_student = False\n",
    "is_student"
   ]
  },
  {
   "cell_type": "code",
   "execution_count": null,
   "id": "9935379c-433a-41ec-a0a1-d107ded18e04",
   "metadata": {},
   "outputs": [],
   "source": []
  }
 ],
 "metadata": {
  "kernelspec": {
   "display_name": "Python 3 (ipykernel)",
   "language": "python",
   "name": "python3"
  },
  "language_info": {
   "codemirror_mode": {
    "name": "ipython",
    "version": 3
   },
   "file_extension": ".py",
   "mimetype": "text/x-python",
   "name": "python",
   "nbconvert_exporter": "python",
   "pygments_lexer": "ipython3",
   "version": "3.10.8"
  }
 },
 "nbformat": 4,
 "nbformat_minor": 5
}
