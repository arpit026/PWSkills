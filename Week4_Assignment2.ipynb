{
 "cells": [
  {
   "cell_type": "markdown",
   "id": "3d1db438-95ce-4235-b67f-41da54a37735",
   "metadata": {},
   "source": [
    "Week4_Assignment_2"
   ]
  },
  {
   "cell_type": "markdown",
   "id": "c4c8d46c-c225-462a-9ffd-db365f9499e0",
   "metadata": {},
   "source": [
    "Q1. Explain Class and Object with respect to Object-Oriented Programming. Give a suitable example."
   ]
  },
  {
   "cell_type": "markdown",
   "id": "1bdd0607-760d-44cf-9127-615d0c157198",
   "metadata": {},
   "source": [
    "Answer1: A class is a blueprint for creating objects. It defines the properties and behaviors that objects of that class will have.\n",
    "Example: Bike is a class, however, gear/name are attributes."
   ]
  },
  {
   "cell_type": "markdown",
   "id": "688295c2-5793-425c-acce-6731393a81d1",
   "metadata": {},
   "source": [
    "Q2. Name the four pillars of OOPs."
   ]
  },
  {
   "cell_type": "markdown",
   "id": "ee6b6a52-1337-4812-8dea-2f75c96a46c2",
   "metadata": {},
   "source": [
    "Answer 2: The four pillars of object-oriented programming (OOP) are:\n",
    "\n",
    "Encapsulation: Encapsulation is the process of bundling data and methods together within a class. It involves hiding the internal details of an object and providing access to the object's functionality through well-defined interfaces. Encapsulation allows for data abstraction and provides the concept of data hiding, which helps in protecting the integrity and consistency of an object.\n",
    "\n",
    "Inheritance: Inheritance is a mechanism that allows classes to inherit properties and behaviors from other classes. It establishes a hierarchical relationship between classes, where a subclass (derived class) can inherit characteristics from a superclass (base class). The subclass can extend or modify the inherited properties and behaviors while also adding its own unique features. Inheritance promotes code reuse, modularity, and the creation of specialized classes based on general ones.\n",
    "\n",
    "Polymorphism: Polymorphism means the ability of an object to take on many forms. It allows objects of different classes to be treated as objects of a common superclass. Polymorphism enables methods to be defined in the superclass and overridden in the subclasses, allowing different objects to respond differently to the same method call. It promotes flexibility, extensibility, and code reusability by allowing the use of a common interface to represent various types of objects.\n",
    "\n",
    "Abstraction: Abstraction is the process of simplifying complex systems by modeling them at a higher level of abstraction. It involves capturing the essential features and behaviors of an object or a system while hiding the unnecessary details. Abstraction allows programmers to focus on the relevant aspects of an object, making it easier to understand and work with. It provides a way to create abstract classes or interfaces that define a common structure and behavior for a group of related objects.\n",
    "\n"
   ]
  },
  {
   "cell_type": "markdown",
   "id": "fb3921e8-eb52-45b0-97b8-fe18beea3d98",
   "metadata": {},
   "source": [
    "Q3. Explain why the __init__() function is used. Give a suitable example."
   ]
  },
  {
   "cell_type": "markdown",
   "id": "82f40a7f-2656-4a3f-9f27-4a84e666ca80",
   "metadata": {},
   "source": [
    "Answer 3: The __init__() function is a special method, also known as the constructor, that is used to initialize the attributes of an object when it is created from a class. It is automatically called when an object is instantiated."
   ]
  },
  {
   "cell_type": "code",
   "execution_count": 4,
   "id": "c112c3d1-c45e-4832-965d-9eb121515915",
   "metadata": {},
   "outputs": [
    {
     "name": "stdout",
     "output_type": "stream",
     "text": [
      "Red\n",
      "Toyota\n",
      "Camry\n",
      "Color: Red, Brand: Toyota, Model: Camry\n"
     ]
    }
   ],
   "source": [
    "class Car:\n",
    "    def __init__(self, color, brand, model):\n",
    "        self.color = color\n",
    "        self.brand = brand\n",
    "        self.model = model\n",
    "\n",
    "    def display_info(self):\n",
    "        print(f\"Color: {self.color}, Brand: {self.brand}, Model: {self.model}\")\n",
    "car1 = Car(\"Red\", \"Toyota\", \"Camry\")\n",
    "print(car1.color)\n",
    "print(car1.brand)\n",
    "print(car1.model)\n",
    "car1.display_info()\n"
   ]
  },
  {
   "cell_type": "markdown",
   "id": "da17b290-04ce-49ef-b03d-9f9aeda85b39",
   "metadata": {},
   "source": [
    "Q4. Why self is used in OOPs?"
   ]
  },
  {
   "cell_type": "markdown",
   "id": "b5fe8291-7cd9-475b-a1fe-ad6aa3017ac0",
   "metadata": {},
   "source": [
    "Answer 4: The self keyword is used to refer to the instance of the class within its own methods and attributes. It acts as a reference to the current object being accessed or operated upon."
   ]
  },
  {
   "cell_type": "markdown",
   "id": "b9a032a9-3913-4e31-ab01-df14f7452f8f",
   "metadata": {},
   "source": [
    "Q5. What is inheritance? Give an example for each type of inheritance."
   ]
  },
  {
   "cell_type": "markdown",
   "id": "023c3a50-ffeb-4b23-916f-1b38ec4087b6",
   "metadata": {},
   "source": [
    "Answer 5: Inheritance is a fundamental concept in object-oriented programming (OOP) that allows one class to inherit properties and behaviors from another class. It establishes a hierarchical relationship between classes, where a subclass can inherit characteristics from a superclass (base class). This allows for code reuse, modularity, and the creation of specialized classes based on more general ones"
   ]
  },
  {
   "cell_type": "code",
   "execution_count": null,
   "id": "09b1e646-3f4d-42f6-b0c2-560a86a1930e",
   "metadata": {},
   "outputs": [],
   "source": []
  }
 ],
 "metadata": {
  "kernelspec": {
   "display_name": "Python 3 (ipykernel)",
   "language": "python",
   "name": "python3"
  },
  "language_info": {
   "codemirror_mode": {
    "name": "ipython",
    "version": 3
   },
   "file_extension": ".py",
   "mimetype": "text/x-python",
   "name": "python",
   "nbconvert_exporter": "python",
   "pygments_lexer": "ipython3",
   "version": "3.10.8"
  }
 },
 "nbformat": 4,
 "nbformat_minor": 5
}
