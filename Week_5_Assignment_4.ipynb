{
 "cells": [
  {
   "cell_type": "markdown",
   "id": "88471cc4-5448-4342-ab37-c1a2f577aaac",
   "metadata": {},
   "source": [
    "Week_5_Assignment_4"
   ]
  },
  {
   "cell_type": "markdown",
   "id": "5f89764c-75e6-4dd0-b0f0-b5683a3683c8",
   "metadata": {},
   "source": [
    "Q1. What is multiprocessing in python? Why is it useful?"
   ]
  },
  {
   "cell_type": "markdown",
   "id": "92a90491-0887-4062-98c5-53a155d39b89",
   "metadata": {},
   "source": [
    "Answer 1- Multiprocessing in Python refers to the ability to run multiple processes concurrently, where each process has its own memory space and runs independently. It allows for the execution of multiple tasks in parallel, leveraging multiple CPU cores or processors.\n",
    "\n",
    "Multiprocessing is useful:\n",
    "\n",
    "Improved Performance: By utilizing multiple processes, multiprocessing allows for efficient utilization of CPU resources. It enables parallel execution of tasks, which can lead to significant performance improvements, especially for computationally intensive or time-consuming tasks. Multiprocessing can make better use of available hardware resources and reduce the overall execution time of a program.\n",
    "\n",
    "Increased Throughput: Multiprocessing enables concurrent processing of multiple tasks. This can lead to increased throughput, as multiple tasks can be executed simultaneously. It is particularly beneficial in scenarios where tasks are independent of each other and can be executed concurrently without dependencies or shared state.\n",
    "\n",
    "Enhanced Responsiveness: Multiprocessing helps in making applications more responsive, especially when dealing with long-running or blocking operations. By running time-consuming tasks in separate processes, the main process or user interface remains responsive and can handle other user interactions or events. This enhances the user experience and prevents the application from becoming unresponsive or \"frozen.\"\n",
    "\n",
    "Fault Isolation: In multiprocessing, each process runs in its own memory space. This provides fault isolation, meaning that if an error or exception occurs in one process, it does not affect the execution of other processes. This isolation can help in building robust and resilient applications, as errors in one process are contained and do not propagate to other parts of the program.\n",
    "\n",
    "Utilization of Multiple CPU Cores: Multiprocessing allows for the utilization of multiple CPU cores or processors available in a system. This can be advantageous for tasks that can be parallelized, as each process can run on a separate core, enabling true parallel execution. By leveraging multiple cores, multiprocessing can significantly increase the computational capacity and performance of a program."
   ]
  },
  {
   "cell_type": "markdown",
   "id": "336e55ee-9b0f-4885-99f1-f9282cebdcf7",
   "metadata": {},
   "source": [
    "Q2. What are the differences between multiprocessing and multithreading?"
   ]
  },
  {
   "cell_type": "markdown",
   "id": "a119c386-6c09-4c53-8c1a-7ff13a2ae351",
   "metadata": {},
   "source": [
    "Answer 2- Multiprocessing and multithreading are two approaches to achieve concurrent execution in a program.\n",
    "\n",
    "Execution Model:\n",
    "\n",
    "Multiprocessing: In multiprocessing, multiple processes are created, where each process has its own memory space and runs independently. Processes do not share memory by default and communicate through inter-process communication (IPC) mechanisms.\n",
    "Multithreading: In multithreading, multiple threads are created within a single process. Threads share the same memory space and can directly access shared data and resources within the process.\n",
    "\n",
    "Resource Utilization:\n",
    "\n",
    "Multiprocessing: Multiprocessing utilizes multiple CPU cores or processors available in a system. Each process runs on a separate core, enabling true parallel execution. It can achieve high CPU utilization and is suitable for CPU-bound tasks.\n",
    "Multithreading: Multithreading runs multiple threads within a single process, which share the same CPU core. Threads are scheduled by the operating system's thread scheduler, and their execution is interleaved. Multithreading is suitable for I/O-bound tasks, where threads can be blocked waiting for I/O operations to complete.\n",
    "\n",
    "Memory Overhead:\n",
    "\n",
    "Multiprocessing: Each process in multiprocessing has its own memory space, resulting in memory isolation between processes. However, this also means that each process has its own memory overhead. If multiple processes need to share large amounts of data, the cost of memory duplication may be significant.\n",
    "Multithreading: Multithreading within a process shares the same memory space, resulting in reduced memory overhead compared to multiprocessing. Threads can directly access and modify shared data, simplifying data sharing and communication.\n",
    "\n",
    "Communication and Synchronization:\n",
    "\n",
    "Multiprocessing: Communication and synchronization between processes in multiprocessing require explicit IPC mechanisms such as pipes, queues, shared memory, or sockets. These mechanisms add some complexity and overhead.\n",
    "Multithreading: Threads within a process can communicate and share data more easily since they share the same memory space. Synchronization mechanisms like locks, semaphores, and condition variables are used to coordinate access to shared resources.\n",
    "\n",
    "Error Isolation:\n",
    "\n",
    "Multiprocessing: Each process in multiprocessing runs in its own memory space, providing isolation between processes. If one process encounters an error or crashes, it typically does not affect other processes.\n",
    "Multithreading: Since threads within a process share the same memory space, an error or exception in one thread can potentially impact the entire process. Careful synchronization and error handling mechanisms are needed to ensure thread safety and prevent issues like data corruption.\n"
   ]
  },
  {
   "cell_type": "markdown",
   "id": "4b75009e-8cec-41e2-bdf7-a41cbef5bc1c",
   "metadata": {},
   "source": [
    "Q3. Write a python code to create a process using the multiprocessing module."
   ]
  },
  {
   "cell_type": "code",
   "execution_count": 2,
   "id": "160e43de-0b9f-4d8a-b05d-db82838b33e7",
   "metadata": {},
   "outputs": [
    {
     "name": "stdout",
     "output_type": "stream",
     "text": [
      "This is a child process.\n",
      "Parent process completed.\n"
     ]
    }
   ],
   "source": [
    "import multiprocessing\n",
    "\n",
    "def my_process():\n",
    "    print(\"This is a child process.\")\n",
    "\n",
    "if __name__ == \"__main__\":\n",
    "    # Create a Process object\n",
    "    process = multiprocessing.Process(target=my_process)\n",
    "\n",
    "    # Start the process\n",
    "    process.start()\n",
    "\n",
    "    # Wait for the process to finish\n",
    "    process.join()\n",
    "\n",
    "    print(\"Parent process completed.\")\n"
   ]
  },
  {
   "cell_type": "markdown",
   "id": "d41be6eb-923b-446b-85cd-f0e8a470e545",
   "metadata": {},
   "source": [
    "Q4. What is a multiprocessing pool in python? Why is it used?"
   ]
  },
  {
   "cell_type": "markdown",
   "id": "3e8905b2-41e8-4a2a-94d3-b7ffb1b83cf6",
   "metadata": {},
   "source": [
    "Answer 4- In Python's multiprocessing module, a multiprocessing pool refers to a pool of worker processes that can be used to execute tasks in parallel. It provides a convenient way to distribute the workload across multiple processes and utilize the available CPU cores efficiently. The pool is created using the multiprocessing.Pool class.\n",
    "\n",
    "Benefits of using a multiprocessing pool:\n",
    "\n",
    "Parallel Task Execution: The multiprocessing pool allows you to execute multiple tasks concurrently by distributing them among the worker processes in the pool. Each task is assigned to an available worker process, and they are executed in parallel. This can lead to significant performance improvements, especially for CPU-bound or computationally intensive tasks.\n",
    "\n",
    "Load Balancing: The pool automatically distributes tasks among the worker processes, ensuring a balanced workload across the available CPUs or cores. It takes care of task scheduling and allocation, making it easier to leverage multiprocessing without manually managing the process creation and distribution.\n",
    "\n",
    "Resource Management: The pool manages the creation, allocation, and management of worker processes. It handles the process spawning, coordination, and termination, abstracting away the complexities of inter-process communication and synchronization. This simplifies the task of utilizing multiprocessing.\n",
    "\n",
    "Reusability of Processes: Instead of creating and terminating processes for each task, the pool reuses the worker processes. Once a task is completed, the worker process becomes available to take up another task from the pool. This process reuse avoids the overhead of process creation and termination, resulting in better performance and efficiency.\n",
    "\n",
    "Result Aggregation: The multiprocessing pool provides methods to retrieve and handle the results of the executed tasks. You can use functions like apply_async() or map() to submit tasks to the pool and obtain the corresponding results. These functions return AsyncResult objects, which can be used to retrieve the results or handle exceptions raised during task execution.\n",
    "\n",
    "Exception Handling: The multiprocessing pool handles exceptions raised within the worker processes. It captures and propagates exceptions to the parent process, allowing to handle and process them appropriately. This helps in managing errors and exceptions in a multi-process environment."
   ]
  },
  {
   "cell_type": "markdown",
   "id": "334435c9-50a4-42cf-9f1d-88fe3b761c72",
   "metadata": {},
   "source": [
    "Q5. How can we create a pool of worker processes in python using the multiprocessing module?"
   ]
  },
  {
   "cell_type": "code",
   "execution_count": 4,
   "id": "f393141f-5444-46cc-9169-0b31a19cfb11",
   "metadata": {},
   "outputs": [
    {
     "name": "stdout",
     "output_type": "stream",
     "text": [
      "[1, 4, 9, 16, 25]\n"
     ]
    }
   ],
   "source": [
    "import multiprocessing\n",
    "\n",
    "def process_task(x):\n",
    "    # Perform some computation or task\n",
    "    result = x ** 2\n",
    "    return result\n",
    "\n",
    "if __name__ == \"__main__\":\n",
    "    # Create a multiprocessing pool with 3 worker processes\n",
    "    pool = multiprocessing.Pool(processes=3)\n",
    "\n",
    "    # Define a list of inputs\n",
    "    inputs = [1, 2, 3, 4, 5]\n",
    "\n",
    "    # Apply the task function to each input using the pool\n",
    "    results = pool.map(process_task, inputs)\n",
    "\n",
    "    # Close the pool and wait for the worker processes to complete\n",
    "    pool.close()\n",
    "    pool.join()\n",
    "\n",
    "    print(results)\n"
   ]
  },
  {
   "cell_type": "markdown",
   "id": "b799978c-3ce9-4bae-a981-ea3a42983987",
   "metadata": {},
   "source": [
    "Q6. Write a python program to create 4 processes, each process should print a different number using the\n",
    "multiprocessing module in python."
   ]
  },
  {
   "cell_type": "code",
   "execution_count": 5,
   "id": "986761df-eee7-40c6-a96e-06b13c6f2afc",
   "metadata": {},
   "outputs": [
    {
     "name": "stdout",
     "output_type": "stream",
     "text": [
      "Process 1 Process  prints2 1Processprints\n",
      "  32 Process\n",
      "prints  34\n",
      " prints 4\n",
      "All processes completed.\n"
     ]
    }
   ],
   "source": [
    "import multiprocessing\n",
    "\n",
    "def print_number(number):\n",
    "    print(\"Process\", number, \"prints\", number)\n",
    "\n",
    "if __name__ == \"__main__\":\n",
    "    processes = []\n",
    "\n",
    "    for i in range(4):\n",
    "        # Create a Process object for each number\n",
    "        process = multiprocessing.Process(target=print_number, args=(i+1,))\n",
    "        processes.append(process)\n",
    "        process.start()\n",
    "\n",
    "    for process in processes:\n",
    "        process.join()\n",
    "\n",
    "    print(\"All processes completed.\")\n"
   ]
  },
  {
   "cell_type": "code",
   "execution_count": null,
   "id": "78739b74-1708-470d-abff-25052bdf146b",
   "metadata": {},
   "outputs": [],
   "source": []
  }
 ],
 "metadata": {
  "kernelspec": {
   "display_name": "Python 3 (ipykernel)",
   "language": "python",
   "name": "python3"
  },
  "language_info": {
   "codemirror_mode": {
    "name": "ipython",
    "version": 3
   },
   "file_extension": ".py",
   "mimetype": "text/x-python",
   "name": "python",
   "nbconvert_exporter": "python",
   "pygments_lexer": "ipython3",
   "version": "3.10.8"
  }
 },
 "nbformat": 4,
 "nbformat_minor": 5
}
