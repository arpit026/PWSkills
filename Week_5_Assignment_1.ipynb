{
 "cells": [
  {
   "cell_type": "markdown",
   "id": "cf13f443-aa55-466a-b052-12b7e6785d21",
   "metadata": {},
   "source": [
    "Week_5_Assignment_1"
   ]
  },
  {
   "cell_type": "markdown",
   "id": "87c7ac51-7ee4-49f0-9d53-ce4bc227b4df",
   "metadata": {},
   "source": [
    "Q1. What is an Exception in python? Write the difference between Exceptions and Syntax errors."
   ]
  },
  {
   "cell_type": "markdown",
   "id": "ae0c0ee8-383f-422f-957e-5b7f861fa4cb",
   "metadata": {},
   "source": [
    "Answer 1- An exception is an event that occurs during the execution of a program, disrupting the normal flow of the program. It represents an error or an exceptional condition that needs to be handled. When an exception occurs, Python raises an exception object, which can then be caught and handled by the program.\n",
    "\n",
    "Difference between Exceptions and Syntax Errors:\n",
    "\n",
    "Occurrence: Syntax errors occur during the parsing of the program, before it is executed, while exceptions occur during the execution of the program when certain conditions are encountered.\n",
    "\n",
    "Cause: Syntax errors are caused by violations of the Python language syntax rules. They indicate that the program structure or syntax is incorrect. Exceptions, on the other hand, are caused by runtime errors or exceptional conditions that occur during program execution.\n",
    "\n",
    "Handling: Syntax errors need to be fixed in the program code to resolve them. They indicate a fundamental issue with the program's structure or syntax. Exceptions, however, can be caught and handled by the program using exception handling mechanisms such as try-except blocks. They allow the program to gracefully handle errors and perform alternative actions or error recovery.\n",
    "\n",
    "Examples: Examples of syntax errors include missing colons, incorrect indentation, or invalid use of keywords. Examples of exceptions include division by zero, accessing a non-existent file, or calling a method on an object that doesn't support it."
   ]
  },
  {
   "cell_type": "markdown",
   "id": "7396db7e-0117-4527-abea-86300356536e",
   "metadata": {},
   "source": [
    "Q2. What happens when an exception is not handled? Explain with an example."
   ]
  },
  {
   "cell_type": "markdown",
   "id": "ea664cc3-e3d6-4025-ba58-656d9ae8cdb3",
   "metadata": {},
   "source": [
    "Answer 2- When an exception is not handled, it results in the termination of the program and an error message is displayed to the user. This error message provides information about the unhandled exception, including its type, a traceback, and the line where the exception occurred."
   ]
  },
  {
   "cell_type": "code",
   "execution_count": 3,
   "id": "a932b097-0ae1-4129-be72-3d9f041a0180",
   "metadata": {},
   "outputs": [
    {
     "name": "stdout",
     "output_type": "stream",
     "text": [
      "Error: division by zero\n"
     ]
    }
   ],
   "source": [
    "def divide_numbers(a, b):\n",
    "    result = a / b\n",
    "    return result\n",
    "\n",
    "# Example 1: Handling the exception\n",
    "try:\n",
    "    result = divide_numbers(10, 0)\n",
    "    print(\"Result:\", result)\n",
    "except ZeroDivisionError as e:\n",
    "    print(\"Error:\", str(e))"
   ]
  },
  {
   "cell_type": "code",
   "execution_count": 4,
   "id": "c3fa1d63-39da-425c-b6a1-0ddc1e027e4e",
   "metadata": {},
   "outputs": [
    {
     "ename": "ZeroDivisionError",
     "evalue": "division by zero",
     "output_type": "error",
     "traceback": [
      "\u001b[0;31m---------------------------------------------------------------------------\u001b[0m",
      "\u001b[0;31mZeroDivisionError\u001b[0m                         Traceback (most recent call last)",
      "Cell \u001b[0;32mIn[4], line 2\u001b[0m\n\u001b[1;32m      1\u001b[0m \u001b[38;5;66;03m# Example 2: Not handling the exception\u001b[39;00m\n\u001b[0;32m----> 2\u001b[0m result \u001b[38;5;241m=\u001b[39m \u001b[43mdivide_numbers\u001b[49m\u001b[43m(\u001b[49m\u001b[38;5;241;43m10\u001b[39;49m\u001b[43m,\u001b[49m\u001b[43m \u001b[49m\u001b[38;5;241;43m0\u001b[39;49m\u001b[43m)\u001b[49m\n\u001b[1;32m      3\u001b[0m \u001b[38;5;28mprint\u001b[39m(\u001b[38;5;124m\"\u001b[39m\u001b[38;5;124mResult:\u001b[39m\u001b[38;5;124m\"\u001b[39m, result)\n",
      "Cell \u001b[0;32mIn[3], line 2\u001b[0m, in \u001b[0;36mdivide_numbers\u001b[0;34m(a, b)\u001b[0m\n\u001b[1;32m      1\u001b[0m \u001b[38;5;28;01mdef\u001b[39;00m \u001b[38;5;21mdivide_numbers\u001b[39m(a, b):\n\u001b[0;32m----> 2\u001b[0m     result \u001b[38;5;241m=\u001b[39m \u001b[43ma\u001b[49m\u001b[43m \u001b[49m\u001b[38;5;241;43m/\u001b[39;49m\u001b[43m \u001b[49m\u001b[43mb\u001b[49m\n\u001b[1;32m      3\u001b[0m     \u001b[38;5;28;01mreturn\u001b[39;00m result\n",
      "\u001b[0;31mZeroDivisionError\u001b[0m: division by zero"
     ]
    }
   ],
   "source": [
    "# Example 2: Not handling the exception\n",
    "result = divide_numbers(10, 0)\n",
    "print(\"Result:\", result)"
   ]
  },
  {
   "cell_type": "markdown",
   "id": "622e194a-4bbc-4fef-b5f5-1d6fe96d7577",
   "metadata": {},
   "source": [
    "Q3. Which Python statements are used to catch and handle exceptions? Explain with an example."
   ]
  },
  {
   "cell_type": "raw",
   "id": "9b3f18cb-f500-4460-a9fc-215972f2f507",
   "metadata": {},
   "source": [
    "Answer 3- In Python, the try-except statements are used to catch and handle exceptions.\n",
    "\n",
    "The basic syntax of the try-except block is as follows:\n",
    "try:\n",
    "    # Code that may raise an exception\n",
    "    # ...\n",
    "except ExceptionType:\n",
    "    # Code to handle the exception\n",
    "    # ..."
   ]
  },
  {
   "cell_type": "code",
   "execution_count": 8,
   "id": "faef6762-31ae-435f-8c1b-57e528ded28a",
   "metadata": {},
   "outputs": [
    {
     "name": "stdout",
     "output_type": "stream",
     "text": [
      "Result: 5.0\n",
      "Error: Cannot divide by zero\n"
     ]
    }
   ],
   "source": [
    "def divide_numbers(a, b):\n",
    "    try:\n",
    "        result = a / b\n",
    "        print(\"Result:\", result)\n",
    "    except ZeroDivisionError:\n",
    "        print(\"Error: Cannot divide by zero\")\n",
    "\n",
    "divide_numbers(10, 2)  # Output: Result: 5.0\n",
    "divide_numbers(10, 0)  # Output: Error: Cannot divide by zero"
   ]
  },
  {
   "cell_type": "markdown",
   "id": "a9ea5bf6-6b5d-481f-bbee-4111f4783ff1",
   "metadata": {},
   "source": [
    "Q4. Explain with an example:\n",
    "a. try and else\n",
    "b. finally\n",
    "c. raise"
   ]
  },
  {
   "cell_type": "code",
   "execution_count": 9,
   "id": "39d14190-20d0-4451-ba5d-ed2fb3b60e7d",
   "metadata": {},
   "outputs": [
    {
     "name": "stdout",
     "output_type": "stream",
     "text": [
      "Result: 5.0\n",
      "Error: Cannot divide by zero\n"
     ]
    }
   ],
   "source": [
    "#Answer 4 - a- Try and Else\n",
    "def divide_numbers(a, b):\n",
    "    try:\n",
    "        result = a / b\n",
    "    except ZeroDivisionError:\n",
    "        print(\"Error: Cannot divide by zero\")\n",
    "    else:\n",
    "        print(\"Result:\", result)\n",
    "\n",
    "# Example:\n",
    "divide_numbers(10, 2)  # Output: Result: 5.0\n",
    "divide_numbers(10, 0)  # Output: Error: Cannot divide by zero"
   ]
  },
  {
   "cell_type": "code",
   "execution_count": 10,
   "id": "3f058bd4-71d9-4927-a7d2-2ac4f6da387c",
   "metadata": {},
   "outputs": [
    {
     "name": "stdout",
     "output_type": "stream",
     "text": [
      "Result: 5.0\n",
      "Finally block executed\n",
      "Error: Cannot divide by zero\n",
      "Finally block executed\n"
     ]
    }
   ],
   "source": [
    "# b - Finally\n",
    "def divide_numbers(a, b):\n",
    "    try:\n",
    "        result = a / b\n",
    "        print(\"Result:\", result)\n",
    "    except ZeroDivisionError:\n",
    "        print(\"Error: Cannot divide by zero\")\n",
    "    finally:\n",
    "        print(\"Finally block executed\")\n",
    "\n",
    "# Example:\n",
    "divide_numbers(10, 2)  # Output: Result: 5.0, Finally block executed\n",
    "divide_numbers(10, 0)  # Output: Error: Cannot divide by zero, Finally block executed\n"
   ]
  },
  {
   "cell_type": "code",
   "execution_count": 11,
   "id": "2267693d-63a0-4f92-9433-1bba961709c1",
   "metadata": {},
   "outputs": [
    {
     "name": "stdout",
     "output_type": "stream",
     "text": [
      "Age is valid\n",
      "Error: Invalid age: Age cannot be negative\n"
     ]
    }
   ],
   "source": [
    "# c - raise\n",
    "def validate_age(age):\n",
    "    if age < 0:\n",
    "        raise ValueError(\"Invalid age: Age cannot be negative\")\n",
    "    elif age < 18:\n",
    "        raise ValueError(\"Invalid age: Age must be at least 18\")\n",
    "    else:\n",
    "        print(\"Age is valid\")\n",
    "\n",
    "# Example:\n",
    "try:\n",
    "    validate_age(25)  # Output: Age is valid\n",
    "    validate_age(-5)  # Raises ValueError: Invalid age: Age cannot be negative\n",
    "except ValueError as e:\n",
    "    print(\"Error:\", str(e))\n"
   ]
  },
  {
   "cell_type": "markdown",
   "id": "4852b80a-29ea-4c0e-821a-7254bf623ad5",
   "metadata": {},
   "source": [
    "Q5. What are Custom Exceptions in python? Why do we need Custom Exceptions? Explain with an example."
   ]
  },
  {
   "cell_type": "markdown",
   "id": "c9fc1554-11ee-4900-8158-3368fbf712b4",
   "metadata": {},
   "source": [
    "Answer 5-\n",
    "Custom exceptions in Python are user-defined exception classes that inherit from the base Exception class or any of its subclasses. These exceptions are created to handle specific exceptional conditions or errors that are not covered by the built-in exceptions in Python.\n",
    "\n",
    "We need custom exceptions in Python for the following reasons:\n",
    "\n",
    "Specificity: Custom exceptions allow us to define and handle exceptional conditions that are specific to our application or domain. By creating custom exceptions, we can provide more meaningful and specific error messages to users or developers, making it easier to identify and handle different exceptional situations.\n",
    "\n",
    "Code Organization: Custom exceptions help in organizing and structuring the code by encapsulating related exceptional conditions within a single class. This makes the code more modular, maintainable, and easier to understand.\n",
    "\n",
    "Error Handling: Custom exceptions enable us to handle exceptional conditions in a consistent and structured manner across different parts of our code. By raising and catching custom exceptions, we can implement error handling strategies that are specific to our application's requirements."
   ]
  },
  {
   "cell_type": "code",
   "execution_count": 12,
   "id": "85c32a15-44bf-4ff4-a8ff-5e65bf9e643f",
   "metadata": {},
   "outputs": [
    {
     "name": "stdout",
     "output_type": "stream",
     "text": [
      "Error: Insufficient balance: Available balance is 100, but attempted to withdraw 150\n"
     ]
    }
   ],
   "source": [
    "class InsufficientBalanceError(Exception):\n",
    "    def __init__(self, balance, amount):\n",
    "        self.balance = balance\n",
    "        self.amount = amount\n",
    "        super().__init__(f\"Insufficient balance: Available balance is {balance}, but attempted to withdraw {amount}\")\n",
    "\n",
    "def withdraw(balance, amount):\n",
    "    if balance < amount:\n",
    "        raise InsufficientBalanceError(balance, amount)\n",
    "    else:\n",
    "        print(\"Withdrawal successful\")\n",
    "\n",
    "# Example:\n",
    "try:\n",
    "    withdraw(100, 150)  # Raises InsufficientBalanceError\n",
    "except InsufficientBalanceError as e:\n",
    "    print(\"Error:\", str(e))\n"
   ]
  },
  {
   "cell_type": "markdown",
   "id": "047b72ab-780c-4d44-9478-7aaf57322df8",
   "metadata": {},
   "source": [
    "Q6. Create custom exception class. Use this class to handle an exception."
   ]
  }
 ],
 "metadata": {
  "kernelspec": {
   "display_name": "Python 3 (ipykernel)",
   "language": "python",
   "name": "python3"
  },
  "language_info": {
   "codemirror_mode": {
    "name": "ipython",
    "version": 3
   },
   "file_extension": ".py",
   "mimetype": "text/x-python",
   "name": "python",
   "nbconvert_exporter": "python",
   "pygments_lexer": "ipython3",
   "version": "3.10.8"
  }
 },
 "nbformat": 4,
 "nbformat_minor": 5
}
