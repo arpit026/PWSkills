{
 "cells": [
  {
   "cell_type": "markdown",
   "id": "6ceb6083-6d17-45a6-8332-7dcb3f8f62a6",
   "metadata": {},
   "source": [
    "Week_5_Assignment_3"
   ]
  },
  {
   "cell_type": "markdown",
   "id": "7797c83f-b414-43fc-b978-4e3014e80ae5",
   "metadata": {},
   "source": [
    "Q1). What is multithreading in python? Why is it used? Name the module used to handle threads in python."
   ]
  },
  {
   "cell_type": "markdown",
   "id": "7b031529-f4fc-45e0-8ad2-b6180f882f2b",
   "metadata": {},
   "source": [
    "Answer 1- Multithreading in Python refers to the concurrent execution of multiple threads within a single process. A thread is a lightweight unit of execution that operates independently and shares the same memory space as other threads within a process.\n",
    "\n",
    "Multithreading is used in Python to achieve parallelism or concurrency, where multiple tasks or operations can be executed simultaneously. It is particularly useful in situations where tasks can be executed independently and can benefit from running concurrently, such as in I/O-bound operations or when dealing with multiple network connections.\n",
    "\n",
    "There are several reasons why multithreading is used in Python:\n",
    "\n",
    "Improved Performance: Multithreading allows for parallel execution of tasks, which can lead to improved performance by utilizing the available CPU resources more efficiently. It enables tasks to run concurrently, potentially reducing the overall execution time.\n",
    "\n",
    "Responsiveness: Multithreading helps in making applications more responsive by allowing concurrent execution of tasks. For example, in a GUI application, using threads can prevent the user interface from becoming unresponsive while performing time-consuming operations.\n",
    "\n",
    "Concurrent I/O Operations: Multithreading is particularly useful for I/O-bound operations, such as reading from or writing to files, network communication, or accessing databases. It enables multiple I/O operations to be performed concurrently, minimizing waiting time.\n",
    "\n",
    "The module used to handle threads in Python is called threading. It is a built-in module in Python and provides a high-level interface for creating and managing threads. The threading module simplifies the process of working with threads by abstracting away many low-level details and providing convenient abstractions for thread management. It allows you to create and start new threads, control their execution, synchronize access to shared resources, and coordinate thread activities."
   ]
  },
  {
   "cell_type": "markdown",
   "id": "906476a5-6721-4c13-a505-d7a0b3131bdc",
   "metadata": {},
   "source": [
    "Q2. Why threading module used? Write the use of the following functions:\n",
    "1. activeCount()\n",
    "2. currentThread()\n",
    "3. enumerate()"
   ]
  },
  {
   "cell_type": "markdown",
   "id": "0387a25d-3674-4ed5-af12-83243fd76a0c",
   "metadata": {},
   "source": [
    "Answer 2- The threading module in Python is used for creating and managing threads. It provides a high-level interface for working with threads and simplifies the process of concurrent execution. The module offers various functions and classes to control and coordinate threads.\n",
    "\n",
    "activeCount(): This function is used to retrieve the number of Thread objects currently active and running in the current process. It returns an integer value representing the count of active threads. This count includes both daemon and non-daemon threads. It can be useful for monitoring the number of active threads at any given time.\n",
    "\n",
    "currentThread(): This function returns the Thread object corresponding to the current thread of execution. It allows you to access and manipulate properties and methods of the current thread. By calling currentThread(), you can obtain a reference to the currently executing thread and perform actions based on its properties or invoke thread-specific methods.\n",
    "\n",
    "enumerate(): The enumerate() function is used to retrieve a list of all active Thread objects currently running in the Python process. It returns a list of Thread objects. This function can be helpful for inspecting and managing multiple threads. By iterating over the list returned by enumerate(), you can access and work with each active thread individually, allowing you to perform actions such as joining or terminating threads."
   ]
  },
  {
   "cell_type": "markdown",
   "id": "a569d884-1af2-4ef9-81fa-b59c4e111eea",
   "metadata": {},
   "source": [
    "Q3. Explain the following functions:\n",
    "1. run()\n",
    "2. start()\n",
    "3. join()\n",
    "4. isAlive()"
   ]
  },
  {
   "cell_type": "markdown",
   "id": "50fd1499-14fb-4d14-a7ea-9ed20de49cf4",
   "metadata": {},
   "source": [
    "Answer3- run(): The run() method is the entry point for the thread's execution. It is invoked when the start() method is called on a Thread object.\n",
    "\n",
    "start(): The start() method is used to start the execution of a thread. It creates a new thread and invokes the run() method of the thread. Once start() is called, the thread transitions from the \"new\" state to the \"runnable\" state and is scheduled by the Python interpreter to run concurrently. It is important to note that start() can only be called once on a given thread object. Attempting to call start() more than once on the same thread object will raise a RuntimeError.\n",
    "\n",
    "join(): The join() method is used to synchronize the execution of multiple threads. When a join() method is called on a thread, the calling thread will wait for the specified thread to complete its execution. This allows for coordination between threads, ensuring that the main thread doesn't proceed until the joined thread has finished. \n",
    "\n",
    "isAlive(): The isAlive() method is used to check whether a thread is currently active or alive. It returns a boolean value indicating whether the thread is still running or has completed its execution. If the thread has started but has not finished executing, isAlive() will return True. Once the thread has completed its execution or has been terminated, isAlive() will return False. This method is useful for checking the status of a thread and making decisions based on its current state."
   ]
  },
  {
   "cell_type": "markdown",
   "id": "773a821a-137f-49f8-825b-ad002273ecb9",
   "metadata": {},
   "source": [
    "Q4. Write a python program to create two threads. Thread one must print the list of squares and thread\n",
    "two must print the list of cubes"
   ]
  },
  {
   "cell_type": "code",
   "execution_count": 2,
   "id": "aa0019b2-bbc8-4577-b92e-a9803b3dbb15",
   "metadata": {},
   "outputs": [
    {
     "name": "stdout",
     "output_type": "stream",
     "text": [
      "List of Squares: [1, 4, 9, 16, 25]\n",
      "List of Cubes: [1, 8, 27, 64, 125]\n",
      "Threads have completed their execution.\n"
     ]
    }
   ],
   "source": [
    "import threading\n",
    "\n",
    "def print_squares():\n",
    "    squares = [num**2 for num in range(1, 6)]\n",
    "    print(\"List of Squares:\", squares)\n",
    "\n",
    "def print_cubes():\n",
    "    cubes = [num**3 for num in range(1, 6)]\n",
    "    print(\"List of Cubes:\", cubes)\n",
    "\n",
    "# Create the first thread to print squares\n",
    "thread1 = threading.Thread(target=print_squares)\n",
    "\n",
    "# Create the second thread to print cubes\n",
    "thread2 = threading.Thread(target=print_cubes)\n",
    "\n",
    "# Start both threads\n",
    "thread1.start()\n",
    "thread2.start()\n",
    "\n",
    "# Wait for both threads to complete\n",
    "thread1.join()\n",
    "thread2.join()\n",
    "\n",
    "print(\"Threads have completed their execution.\")\n"
   ]
  },
  {
   "cell_type": "markdown",
   "id": "0e1f6f0b-64a6-497d-a61f-6a6acfc25b62",
   "metadata": {},
   "source": [
    "Q5. State advantages and disadvantages of multithreading."
   ]
  },
  {
   "cell_type": "markdown",
   "id": "0f4f2cbe-bd0f-43e4-9048-90509484f722",
   "metadata": {},
   "source": [
    "Answer 5- Advantages of Multithreading:\n",
    "\n",
    "Improved Performance: Multithreading can lead to improved performance by utilizing available CPU resources more efficiently. It allows for concurrent execution of tasks, enabling the execution of multiple tasks simultaneously. This can result in faster processing and increased throughput.\n",
    "\n",
    "Responsiveness: Multithreading helps in making applications more responsive. By executing time-consuming operations in separate threads, the main thread or user interface thread remains responsive and doesn't get blocked. This enhances the overall user experience and ensures smooth interaction with the application.\n",
    "\n",
    "Resource Sharing: Threads within a process share the same memory space, which enables efficient sharing of resources. Threads can communicate and exchange data without the need for complex inter-process communication mechanisms. This makes it easier to share data and state between threads within a program.\n",
    "\n",
    "Simplified Program Design: Multithreading allows for the modularization of tasks. By dividing a program into multiple threads, each responsible for a specific task, the overall program structure becomes more organized and easier to understand. It simplifies program design and makes it more manageable.\n",
    "\n",
    "Disadvantages of Multithreading:\n",
    "\n",
    "Complexity: Multithreading introduces complexity to program design and implementation. It requires careful consideration of synchronization, data sharing, and inter-thread communication to avoid issues like race conditions, deadlocks, and data inconsistencies. Debugging and troubleshooting multithreaded programs can be challenging.\n",
    "\n",
    "Synchronization Overhead: When multiple threads access shared resources concurrently, proper synchronization mechanisms must be in place to ensure data integrity and avoid conflicts. These mechanisms, such as locks or semaphores, introduce overhead due to context switching and thread coordination. Improper synchronization can lead to performance degradation or bugs.\n",
    "\n",
    "Increased Risk of Errors: Multithreading can introduce concurrency-related bugs that are hard to reproduce and debug. Issues like race conditions, deadlocks, and thread starvation can occur if synchronization and coordination among threads are not handled correctly. Identifying and fixing such issues can be time-consuming.\n",
    "\n",
    "Scalability Limitations: Although multithreading can enhance performance on systems with multiple cores or CPUs, there can be limitations in scalability.\n"
   ]
  },
  {
   "cell_type": "markdown",
   "id": "5ff6ba8d-9c03-40bb-b495-d5c47815b0a8",
   "metadata": {},
   "source": [
    "Q6. Explain deadlocks and race conditions."
   ]
  },
  {
   "cell_type": "markdown",
   "id": "56e3c19f-cd65-496a-96a0-f7a6e901e92a",
   "metadata": {},
   "source": [
    "Answer 6- Deadlocks and race conditions are two common concurrency-related issues that can occur in multithreaded or parallel programs.\n",
    "\n",
    "Deadlocks:\n",
    "A deadlock occurs when two or more threads are blocked indefinitely, waiting for each other to release resources that they hold. Deadlocks typically arise due to a circular dependency of resource acquisition between threads. \n",
    "\n",
    "Race Conditions:\n",
    "A race condition occurs when the behavior or outcome of a program depends on the interleaving or ordering of execution of multiple threads. It arises when multiple threads access and manipulate shared data concurrently without proper synchronization. Race conditions can lead to unpredictable and undesired results. The occurrence of a race condition is non-deterministic, meaning the outcome may vary each time the program runs.\n",
    "Race conditions often arise when threads perform read-modify-write operations on shared data. If two or more threads access and modify the same shared data simultaneously, the final result may depend on the order in which the threads execute. This can lead to data corruption, inconsistent states, or incorrect computations.\n",
    "\n",
    "To mitigate race conditions, proper synchronization mechanisms like locks, mutexes, or atomic operations must be used to ensure that only one thread can access shared data at a time. Synchronization mechanisms provide mutual exclusion, preventing concurrent access to shared resources and maintaining data integrity."
   ]
  },
  {
   "cell_type": "code",
   "execution_count": null,
   "id": "7da38846-65e1-42bc-a7a6-ee39e21b790d",
   "metadata": {},
   "outputs": [],
   "source": []
  }
 ],
 "metadata": {
  "kernelspec": {
   "display_name": "Python 3 (ipykernel)",
   "language": "python",
   "name": "python3"
  },
  "language_info": {
   "codemirror_mode": {
    "name": "ipython",
    "version": 3
   },
   "file_extension": ".py",
   "mimetype": "text/x-python",
   "name": "python",
   "nbconvert_exporter": "python",
   "pygments_lexer": "ipython3",
   "version": "3.10.8"
  }
 },
 "nbformat": 4,
 "nbformat_minor": 5
}
