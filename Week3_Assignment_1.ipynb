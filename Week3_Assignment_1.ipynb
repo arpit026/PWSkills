{
 "cells": [
  {
   "cell_type": "markdown",
   "id": "bb37b4f5-230a-41dd-b352-e568ad191964",
   "metadata": {},
   "source": [
    "Week_3_Assignment_1"
   ]
  },
  {
   "cell_type": "markdown",
   "id": "8516e48f-de81-49f4-ae25-06ac0351eb2e",
   "metadata": {},
   "source": [
    "Q1. Which keyword is used to create a function? Create a function to return a list of odd numbers in the \n",
    "range of 1 to 25."
   ]
  },
  {
   "cell_type": "code",
   "execution_count": 14,
   "id": "2a466aea-22e6-4f44-884b-7259558ba6e8",
   "metadata": {},
   "outputs": [],
   "source": [
    "#Answer 1: \"def\" keyword is used to create a function.\n",
    "\n",
    "def odd():\n",
    "    odd_num =[]\n",
    "    for i in range(1,26):\n",
    "        if i %2 !=0:\n",
    "            odd_num.append(i)\n",
    "    return(odd_num)\n",
    "\n"
   ]
  },
  {
   "cell_type": "code",
   "execution_count": 15,
   "id": "1b3ab64e-1bda-41b7-8c47-8a22d8e07551",
   "metadata": {},
   "outputs": [
    {
     "data": {
      "text/plain": [
       "[1, 3, 5, 7, 9, 11, 13, 15, 17, 19, 21, 23, 25]"
      ]
     },
     "execution_count": 15,
     "metadata": {},
     "output_type": "execute_result"
    }
   ],
   "source": [
    "odd()"
   ]
  },
  {
   "cell_type": "markdown",
   "id": "824bf78f-4b54-4a0a-99cc-d733e491a133",
   "metadata": {},
   "source": [
    "Q2. Why *args and **kwargs is used in some functions? Create a function each for *args and **kwargs \n",
    "to demonstrate their use."
   ]
  },
  {
   "cell_type": "code",
   "execution_count": 16,
   "id": "25793878-87a4-442a-85ea-f33c045a8f04",
   "metadata": {},
   "outputs": [],
   "source": [
    "#Answer 2: *args and **kwargs are used as parameters in function definitions to allow for variable-length arguments.\n",
    "def test1(*args):\n",
    "    return(args)\n",
    "def test2(**kwargs):\n",
    "    return(kwargs)"
   ]
  },
  {
   "cell_type": "code",
   "execution_count": 17,
   "id": "a20e39cf-bfa8-47e7-9c18-044e3cf598be",
   "metadata": {},
   "outputs": [
    {
     "data": {
      "text/plain": [
       "(1, 2, 3, 4)"
      ]
     },
     "execution_count": 17,
     "metadata": {},
     "output_type": "execute_result"
    }
   ],
   "source": [
    "test1(1,2,3,4)"
   ]
  },
  {
   "cell_type": "code",
   "execution_count": 18,
   "id": "92106c1f-9d18-4163-b410-4d3a32f4bd55",
   "metadata": {},
   "outputs": [
    {
     "data": {
      "text/plain": [
       "{'a': 25, 'b': True, 'c': 20.35, 'd': 'Arpit'}"
      ]
     },
     "execution_count": 18,
     "metadata": {},
     "output_type": "execute_result"
    }
   ],
   "source": [
    "test2(a = 25, b = True, c = 20.35, d =\"Arpit\")"
   ]
  },
  {
   "cell_type": "markdown",
   "id": "33b83ea1-1df8-4c7e-bf3b-f88a8488d7cb",
   "metadata": {},
   "source": [
    "Q3.  What is an iterator in python? Name the method used to initialise the iterator object and the method \n",
    "used for iteration. Use these methods to print the first five elements of the given list [2, 4, 6, 8, 10, 12, 14, \n",
    "16, 18, 20]."
   ]
  },
  {
   "cell_type": "code",
   "execution_count": 19,
   "id": "b3ab13e4-aaf1-4c42-8b4c-24a7da94c5b7",
   "metadata": {},
   "outputs": [
    {
     "name": "stdout",
     "output_type": "stream",
     "text": [
      "2\n",
      "4\n",
      "6\n",
      "8\n",
      "10\n"
     ]
    }
   ],
   "source": [
    "#Answer 3: An iterator is an object that represents a stream of data. It allows you to iterate over elements of a container or a sequence in a specific order.\n",
    "# To create an iterator object, you can use the iter() function, and to iterate over the elements, you can use the next() function.\n",
    "l = [2, 4, 6, 8, 10, 12, 14, 16, 18, 20]\n",
    "\n",
    "iterator = iter(l)\n",
    "for i in range(5):\n",
    "    elements = next(iterator)\n",
    "    print(elements)"
   ]
  },
  {
   "cell_type": "markdown",
   "id": "abf6902d-9996-4e1a-8dcb-0f0e7549dad7",
   "metadata": {},
   "source": [
    "Q4.  What is a generator function in python? Why yield keyword is used? Give an example of a generator \n",
    "function."
   ]
  },
  {
   "cell_type": "code",
   "execution_count": 20,
   "id": "77ab6f06-d24b-4a16-b2f7-6e3d801c6164",
   "metadata": {},
   "outputs": [],
   "source": [
    "#Answer 4: A generator function is a special type of function that generates a sequence of values using the yield keyword.\n",
    "#The yield keyword is used in a generator function to specify the values that will be generated one at a time. "
   ]
  },
  {
   "cell_type": "code",
   "execution_count": 21,
   "id": "a5a2dc49-612c-4b19-a049-f38a87ee8fc2",
   "metadata": {},
   "outputs": [
    {
     "name": "stdout",
     "output_type": "stream",
     "text": [
      "0\n",
      "2\n",
      "4\n"
     ]
    }
   ],
   "source": [
    "def even(n):\n",
    "    i = 0\n",
    "    while i < n:\n",
    "        yield i\n",
    "        i += 2\n",
    "even_gen = even(5)\n",
    "for num in even_gen:\n",
    "    print(num)"
   ]
  },
  {
   "cell_type": "markdown",
   "id": "ebece799-9a38-438e-8838-1bca9769ef0f",
   "metadata": {},
   "source": [
    "Q5. Create a generator function for prime numbers less than 1000. Use the next() method to print the \n",
    "first 20 prime numbers."
   ]
  },
  {
   "cell_type": "code",
   "execution_count": 22,
   "id": "0e991b46-d561-4f4a-9c1f-481761a69dba",
   "metadata": {},
   "outputs": [
    {
     "name": "stdout",
     "output_type": "stream",
     "text": [
      "2\n",
      "3\n",
      "5\n",
      "7\n",
      "11\n",
      "13\n",
      "17\n",
      "19\n",
      "23\n",
      "29\n",
      "31\n",
      "37\n",
      "41\n",
      "43\n",
      "47\n",
      "53\n",
      "59\n",
      "61\n",
      "67\n",
      "71\n"
     ]
    }
   ],
   "source": [
    "#Answer 5:\n",
    "def prime_generator():\n",
    "    primes = []\n",
    "    num = 2\n",
    "    while True:\n",
    "        if all(num % prime != 0 for prime in primes):\n",
    "            primes.append(num)\n",
    "            yield num\n",
    "        num += 1\n",
    "prime_gen = prime_generator()\n",
    "\n",
    "for _ in range(20):\n",
    "    print(next(prime_gen))"
   ]
  },
  {
   "cell_type": "markdown",
   "id": "faa80d34-d3f0-4a5d-9b5c-2801efce6438",
   "metadata": {},
   "source": [
    "Q6. Write a python program to print the first 10 Fibonacci numbers using a while loop."
   ]
  },
  {
   "cell_type": "code",
   "execution_count": 23,
   "id": "e767f7f9-9e12-4bf2-b884-3d51a3073a49",
   "metadata": {},
   "outputs": [
    {
     "name": "stdout",
     "output_type": "stream",
     "text": [
      "0\n",
      "1\n",
      "1\n",
      "2\n",
      "3\n",
      "5\n",
      "8\n",
      "13\n",
      "21\n",
      "34\n"
     ]
    }
   ],
   "source": [
    "#Answer 6\n",
    "x, y = 0, 1\n",
    "count = 0\n",
    "\n",
    "while count < 10:\n",
    "    print(x)\n",
    "    x, y = y, x + y\n",
    "    count += 1"
   ]
  },
  {
   "cell_type": "markdown",
   "id": "589501e2-b75c-4000-8e82-3cb3edec589e",
   "metadata": {},
   "source": [
    "Q7. Write a List Comprehension to iterate through the given string: ‘pwskills’.\n",
    "\n",
    "Expected output: ['p', 'w', 's', 'k', 'i', 'l', 'l', 's'] "
   ]
  },
  {
   "cell_type": "code",
   "execution_count": 24,
   "id": "71d8a04c-3ed7-4cb9-9f5b-2dbe9a9fc251",
   "metadata": {},
   "outputs": [
    {
     "name": "stdout",
     "output_type": "stream",
     "text": [
      "['p', 'w', 's', 'k', 'i', 'l', 'l', 's']\n"
     ]
    }
   ],
   "source": [
    "#Answer 7\n",
    "s = 'pwskills'\n",
    "result = [i for i in s]\n",
    "print(result)"
   ]
  },
  {
   "cell_type": "markdown",
   "id": "55f4a64b-663d-4c17-a42f-93de06438d5d",
   "metadata": {},
   "source": [
    "Q8. Write a python program to check whether a given number is Palindrome or not using a while loop."
   ]
  },
  {
   "cell_type": "code",
   "execution_count": 26,
   "id": "5f7518b0-8c58-4902-8ae8-bb59c358dbbc",
   "metadata": {},
   "outputs": [
    {
     "name": "stdin",
     "output_type": "stream",
     "text": [
      "Enter a number:  262\n"
     ]
    },
    {
     "name": "stdout",
     "output_type": "stream",
     "text": [
      "The number is a palindrome.\n"
     ]
    }
   ],
   "source": [
    "#Answer 8:\n",
    "number = int(input(\"Enter a number: \"))\n",
    "temp = number\n",
    "reverse = 0\n",
    "\n",
    "while temp > 0:\n",
    "    digit = temp % 10\n",
    "    reverse = (reverse * 10) + digit\n",
    "    temp //= 10\n",
    "\n",
    "if number == reverse:\n",
    "    print(\"The number is a palindrome.\")\n",
    "else:\n",
    "    print(\"The number is not a palindrome.\")"
   ]
  },
  {
   "cell_type": "markdown",
   "id": "ff10537e-19cf-4580-8a76-8113271e9370",
   "metadata": {},
   "source": [
    "Q9. Write a code to print odd numbers from 1 to 100 using list comprehension."
   ]
  },
  {
   "cell_type": "code",
   "execution_count": 27,
   "id": "785d5b7a-de43-46f9-a750-40747525dd07",
   "metadata": {},
   "outputs": [
    {
     "name": "stdout",
     "output_type": "stream",
     "text": [
      "[1, 3, 5, 7, 9, 11, 13, 15, 17, 19, 21, 23, 25, 27, 29, 31, 33, 35, 37, 39, 41, 43, 45, 47, 49, 51, 53, 55, 57, 59, 61, 63, 65, 67, 69, 71, 73, 75, 77, 79, 81, 83, 85, 87, 89, 91, 93, 95, 97, 99]\n"
     ]
    }
   ],
   "source": [
    "#Answer 9:\n",
    "odd_numbers = [num for num in range(1, 101) if num % 2 != 0]\n",
    "print(odd_numbers)"
   ]
  },
  {
   "cell_type": "code",
   "execution_count": null,
   "id": "ce41521f-eee7-4654-bb2c-6b1ccd9d9dbe",
   "metadata": {},
   "outputs": [],
   "source": []
  }
 ],
 "metadata": {
  "kernelspec": {
   "display_name": "Python 3 (ipykernel)",
   "language": "python",
   "name": "python3"
  },
  "language_info": {
   "codemirror_mode": {
    "name": "ipython",
    "version": 3
   },
   "file_extension": ".py",
   "mimetype": "text/x-python",
   "name": "python",
   "nbconvert_exporter": "python",
   "pygments_lexer": "ipython3",
   "version": "3.10.8"
  }
 },
 "nbformat": 4,
 "nbformat_minor": 5
}
