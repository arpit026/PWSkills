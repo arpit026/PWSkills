{
 "cells": [
  {
   "cell_type": "markdown",
   "id": "f2c358a6-7200-4cb0-9ab0-3b3a02aaf0e3",
   "metadata": {},
   "source": [
    "Week_4_Assignment_3"
   ]
  },
  {
   "cell_type": "markdown",
   "id": "4a46a0fc-886d-407e-b7b3-f508ee6193c8",
   "metadata": {},
   "source": [
    "Q1. What is Abstraction in OOps? Explain with an example."
   ]
  },
  {
   "cell_type": "markdown",
   "id": "22bf5b78-e5cc-486d-9eb8-ce45b4a652c5",
   "metadata": {},
   "source": [
    "\n",
    "Answer 1: Abstraction in object-oriented programming (OOP) is a concept that involves representing complex systems or entities by simplifying them into more manageable and understandable models. It focuses on capturing only the essential features and behaviors of an object or a system, while hiding the unnecessary details or complexities."
   ]
  },
  {
   "cell_type": "code",
   "execution_count": 4,
   "id": "377fe904-b122-483e-a166-7060138f18c1",
   "metadata": {},
   "outputs": [
    {
     "name": "stdout",
     "output_type": "stream",
     "text": [
      "24\n",
      "20\n",
      "78.5\n",
      "31.400000000000002\n"
     ]
    }
   ],
   "source": [
    "from abc import ABC, abstractmethod\n",
    "\n",
    "class Shape(ABC):\n",
    "    @abstractmethod\n",
    "    def area(self):\n",
    "        pass\n",
    "\n",
    "    @abstractmethod\n",
    "    def perimeter(self):\n",
    "        pass\n",
    "\n",
    "class Rectangle(Shape):\n",
    "    def __init__(self, length, width):\n",
    "        self.length = length\n",
    "        self.width = width\n",
    "\n",
    "    def area(self):\n",
    "        return self.length * self.width\n",
    "\n",
    "    def perimeter(self):\n",
    "        return 2 * (self.length + self.width)\n",
    "\n",
    "class Circle(Shape):\n",
    "    def __init__(self, radius):\n",
    "        self.radius = radius\n",
    "\n",
    "    def area(self):\n",
    "        return 3.14 * self.radius * self.radius\n",
    "\n",
    "    def perimeter(self):\n",
    "        return 2 * 3.14 * self.radius\n",
    "\n",
    "rectangle = Rectangle(4, 6)\n",
    "circle = Circle(5)\n",
    "\n",
    "print(rectangle.area())\n",
    "print(rectangle.perimeter())\n",
    "print(circle.area())\n",
    "print(circle.perimeter())\n"
   ]
  },
  {
   "cell_type": "markdown",
   "id": "c7302673-3096-4f4e-b49c-976aab68ba2d",
   "metadata": {},
   "source": [
    "Q2. Differentiate between Abstraction and Encapsulation. Explain with an example."
   ]
  },
  {
   "cell_type": "markdown",
   "id": "58cc18aa-8949-4262-99d1-dc95521c39d4",
   "metadata": {},
   "source": [
    "Answer 2: Abstraction focuses on creating simplified and conceptual models of real-world entities or systems. It involves hiding unnecessary details and exposing only the essential features and behaviors. Abstraction allows programmers to work at a higher level of understanding, dealing with concepts and interactions rather than low-level implementation details.\n",
    "\n",
    "Encapsulation, on the other hand, is about bundling data and methods together within a class and controlling access to them. It involves the idea of encapsulating related data and functions into a single unit, known as a class, and protecting the internal state of the object from direct access or modification."
   ]
  },
  {
   "cell_type": "code",
   "execution_count": 6,
   "id": "4593b10b-6cfe-454a-a2b0-6bb18ac609ee",
   "metadata": {},
   "outputs": [
    {
     "name": "stdout",
     "output_type": "stream",
     "text": [
      "100\n",
      "Toyota\n",
      "Camry\n",
      "2021\n"
     ]
    },
    {
     "ename": "AttributeError",
     "evalue": "'Car' object has no attribute '__mileage'",
     "output_type": "error",
     "traceback": [
      "\u001b[0;31m---------------------------------------------------------------------------\u001b[0m",
      "\u001b[0;31mAttributeError\u001b[0m                            Traceback (most recent call last)",
      "Cell \u001b[0;32mIn[6], line 25\u001b[0m\n\u001b[1;32m     23\u001b[0m \u001b[38;5;28mprint\u001b[39m(car\u001b[38;5;241m.\u001b[39mmodel)\n\u001b[1;32m     24\u001b[0m \u001b[38;5;28mprint\u001b[39m(car\u001b[38;5;241m.\u001b[39myear)\n\u001b[0;32m---> 25\u001b[0m \u001b[38;5;28mprint\u001b[39m(\u001b[43mcar\u001b[49m\u001b[38;5;241;43m.\u001b[39;49m\u001b[43m__mileage\u001b[49m)\n",
      "\u001b[0;31mAttributeError\u001b[0m: 'Car' object has no attribute '__mileage'"
     ]
    }
   ],
   "source": [
    "class Car:\n",
    "    def __init__(self, make, model, year):\n",
    "        self.make = make\n",
    "        self.model = model\n",
    "        self.year = year\n",
    "        self.__mileage = 0\n",
    "\n",
    "    def drive(self, distance):\n",
    "        self.__mileage += distance\n",
    "\n",
    "    def get_mileage(self):\n",
    "        return self.__mileage\n",
    "\n",
    "    def __str__(self):\n",
    "        return f\"{self.make} {self.model} ({self.year})\"\n",
    "\n",
    "\n",
    "car = Car(\"Toyota\", \"Camry\", 2021)\n",
    "car.drive(100)\n",
    "print(car.get_mileage())\n",
    "\n",
    "print(car.make)\n",
    "print(car.model)\n",
    "print(car.year)\n",
    "print(car.__mileage)\n"
   ]
  },
  {
   "cell_type": "markdown",
   "id": "fe63d25c-a3f0-4172-b1ff-33308ec95e47",
   "metadata": {},
   "source": [
    "Q3. What is abc module in python? Why is it used?"
   ]
  },
  {
   "cell_type": "markdown",
   "id": "8ba89f0c-a43c-43c0-be03-3c77f4208cd1",
   "metadata": {},
   "source": [
    "Answer 3: The abc module in Python stands for \"Abstract Base Classes.\" It is a module that provides infrastructure for defining abstract base classes. Abstract base classes are classes that cannot be instantiated directly but serve as a blueprint for other classes.\n",
    "\n",
    "The abc module is used to define and work with abstract base classes, which are useful for enforcing a certain interface or set of methods that subclasses must implement. It allows you to create abstract classes that define common attributes and behaviors, and then subclasses can inherit from these abstract classes and provide their own specific implementations."
   ]
  },
  {
   "cell_type": "markdown",
   "id": "17b15dc2-f8ea-4203-bfa8-29af5f4487f7",
   "metadata": {},
   "source": [
    "Q4. How can we achieve data abstraction?"
   ]
  },
  {
   "cell_type": "markdown",
   "id": "005b5e1a-e96e-43ee-af3e-027ada98ea8d",
   "metadata": {},
   "source": [
    "Answer 4: Data abstraction in object-oriented programming (OOP) can be achieved through the use of classes and objects. Here are the steps to achieve data abstraction:\n",
    "\n",
    "Define a Class: Create a class that represents the abstract concept or entity you want to model. The class should have attributes to represent the data and methods to define the behaviors.\n",
    "\n",
    "Hide Implementation Details: Encapsulate the internal data and implementation details within the class. This can be done by using access modifiers, such as private or protected, to restrict direct access to the class's attributes. Only provide access to the essential data and behaviors through public methods.\n",
    "\n",
    "Define Public Methods: Define public methods within the class to provide controlled access to the encapsulated data. These methods act as an interface to interact with the class and manipulate the data.\n",
    "\n",
    "Access Data Through Methods: Access and modify the data within the class only through the defined public methods. This ensures that any necessary validation or processing is applied to the data before it is accessed or modified."
   ]
  },
  {
   "cell_type": "markdown",
   "id": "b7096bb0-3094-4d94-a713-242fd43abaa1",
   "metadata": {},
   "source": [
    "Q5. Can we create an instance of an abstract class? Explain your answer.\n"
   ]
  },
  {
   "cell_type": "markdown",
   "id": "ae82e686-3926-42a3-84d6-48fe353e1a33",
   "metadata": {},
   "source": [
    "Answer 5: No, we cannot create an instance of an abstract class in Python.\n",
    "\n",
    "An abstract class is a class that contains one or more abstract methods, which are methods without an implementation. The purpose of an abstract class is to provide a common interface or blueprint for its subclasses to follow. It defines the structure and behavior that the subclasses should have."
   ]
  },
  {
   "cell_type": "code",
   "execution_count": 9,
   "id": "428165b3-aabe-4a21-bd26-9be3166c4831",
   "metadata": {},
   "outputs": [
    {
     "ename": "TypeError",
     "evalue": "Can't instantiate abstract class AbstractClass with abstract method abstract_method",
     "output_type": "error",
     "traceback": [
      "\u001b[0;31m---------------------------------------------------------------------------\u001b[0m",
      "\u001b[0;31mTypeError\u001b[0m                                 Traceback (most recent call last)",
      "Cell \u001b[0;32mIn[9], line 7\u001b[0m\n\u001b[1;32m      4\u001b[0m     \u001b[38;5;129m@abstractmethod\u001b[39m\n\u001b[1;32m      5\u001b[0m     \u001b[38;5;28;01mdef\u001b[39;00m \u001b[38;5;21mabstract_method\u001b[39m(\u001b[38;5;28mself\u001b[39m):\n\u001b[1;32m      6\u001b[0m         \u001b[38;5;28;01mpass\u001b[39;00m\n\u001b[0;32m----> 7\u001b[0m obj \u001b[38;5;241m=\u001b[39m \u001b[43mAbstractClass\u001b[49m\u001b[43m(\u001b[49m\u001b[43m)\u001b[49m  \u001b[38;5;66;03m# Raises TypeError\u001b[39;00m\n",
      "\u001b[0;31mTypeError\u001b[0m: Can't instantiate abstract class AbstractClass with abstract method abstract_method"
     ]
    }
   ],
   "source": [
    "from abc import ABC, abstractmethod\n",
    "\n",
    "class AbstractClass(ABC):\n",
    "    @abstractmethod\n",
    "    def abstract_method(self):\n",
    "        pass\n",
    "obj = AbstractClass()  # Raises TypeError\n"
   ]
  },
  {
   "cell_type": "code",
   "execution_count": null,
   "id": "fbf73249-3498-4910-a2a9-60e2172cec2f",
   "metadata": {},
   "outputs": [],
   "source": []
  }
 ],
 "metadata": {
  "kernelspec": {
   "display_name": "Python 3 (ipykernel)",
   "language": "python",
   "name": "python3"
  },
  "language_info": {
   "codemirror_mode": {
    "name": "ipython",
    "version": 3
   },
   "file_extension": ".py",
   "mimetype": "text/x-python",
   "name": "python",
   "nbconvert_exporter": "python",
   "pygments_lexer": "ipython3",
   "version": "3.10.8"
  }
 },
 "nbformat": 4,
 "nbformat_minor": 5
}
