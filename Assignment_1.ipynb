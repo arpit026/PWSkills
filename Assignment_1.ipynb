{
 "cells": [
  {
   "cell_type": "markdown",
   "id": "3eaa1e98-1f08-4bd0-b0e2-41a4d113c513",
   "metadata": {},
   "source": [
    "ASSIGNMENT - WEEK 1"
   ]
  },
  {
   "cell_type": "markdown",
   "id": "7680d776-ae9c-49f4-ad8e-5042577b3bae",
   "metadata": {},
   "source": [
    "Q1. Create one variable containing following type of data:\n",
    "\n",
    "(i)\tstring\n",
    "\n",
    "(ii)\tlist\n",
    "\n",
    "(iii)\tfloat\n",
    "\n",
    "(iv)\ttuple"
   ]
  },
  {
   "cell_type": "code",
   "execution_count": 48,
   "id": "8c9b814d-03c7-4a80-b8c2-ae56d95fb281",
   "metadata": {},
   "outputs": [
    {
     "data": {
      "text/plain": [
       "'Arpit'"
      ]
     },
     "execution_count": 48,
     "metadata": {},
     "output_type": "execute_result"
    }
   ],
   "source": [
    "#Answer 1)i\n",
    "Str1 = \"Arpit\"\n",
    "Str1"
   ]
  },
  {
   "cell_type": "code",
   "execution_count": 49,
   "id": "f6efb74d-8c2a-4e5e-828b-83fecd1702a9",
   "metadata": {},
   "outputs": [
    {
     "data": {
      "text/plain": [
       "[1, 2.5, 'Arpit', True]"
      ]
     },
     "execution_count": 49,
     "metadata": {},
     "output_type": "execute_result"
    }
   ],
   "source": [
    "#(ii)\n",
    "l = [1, 2.5, 'Arpit', True]\n",
    "l"
   ]
  },
  {
   "cell_type": "code",
   "execution_count": 50,
   "id": "21ed3687-a68b-4bf8-8653-195f78aa4acc",
   "metadata": {},
   "outputs": [
    {
     "data": {
      "text/plain": [
       "2.5"
      ]
     },
     "execution_count": 50,
     "metadata": {},
     "output_type": "execute_result"
    }
   ],
   "source": [
    "#(iii)\n",
    "f = 2.5\n",
    "f"
   ]
  },
  {
   "cell_type": "code",
   "execution_count": 52,
   "id": "600349ce-b534-4df4-9906-90bcead8c79b",
   "metadata": {},
   "outputs": [
    {
     "data": {
      "text/plain": [
       "(1, 2, 'Arpit', True)"
      ]
     },
     "execution_count": 52,
     "metadata": {},
     "output_type": "execute_result"
    }
   ],
   "source": [
    "#(iv)\n",
    "t = (1,2,'Arpit', True)\n",
    "t"
   ]
  },
  {
   "cell_type": "markdown",
   "id": "1c18e20d-289e-43e8-8d35-da2d0a170165",
   "metadata": {},
   "source": [
    "Q2. Given are some following variables containing data:\n",
    "\n",
    "(i)\tvar1 = ‘ ‘\n",
    "\n",
    "(ii)\tvar2 = ‘[ DS , ML , Python]’\n",
    "\n",
    "(iii)\tvar3 = [ ‘DS’ , ’ML’ , ‘Python’ ]\n",
    "\n",
    "(iv)\tvar4 = 1.\n",
    "\n",
    "\n",
    "What will be the data type of the above given variable"
   ]
  },
  {
   "cell_type": "code",
   "execution_count": 23,
   "id": "0e4ad4cc-7ab9-4c10-978f-d0e8218d2521",
   "metadata": {},
   "outputs": [
    {
     "data": {
      "text/plain": [
       "str"
      ]
     },
     "execution_count": 23,
     "metadata": {},
     "output_type": "execute_result"
    }
   ],
   "source": [
    "#Answer 2\n",
    "#(i)\n",
    "var1 = ''\n",
    "type(var1)\n"
   ]
  },
  {
   "cell_type": "code",
   "execution_count": 26,
   "id": "b6b1d557-b029-445e-860c-fd5607d6a0e0",
   "metadata": {},
   "outputs": [
    {
     "data": {
      "text/plain": [
       "str"
      ]
     },
     "execution_count": 26,
     "metadata": {},
     "output_type": "execute_result"
    }
   ],
   "source": [
    "#(ii) \n",
    "var2 = '[ DS , ML , Python]'\n",
    "type(var2)"
   ]
  },
  {
   "cell_type": "code",
   "execution_count": 30,
   "id": "157f4fce-37d5-457e-89cb-4aebeec1722e",
   "metadata": {},
   "outputs": [
    {
     "data": {
      "text/plain": [
       "list"
      ]
     },
     "execution_count": 30,
     "metadata": {},
     "output_type": "execute_result"
    }
   ],
   "source": [
    "#(iii)\n",
    "var3 = [ 'DS' , 'ML' , 'Python' ]\n",
    "type(var3)"
   ]
  },
  {
   "cell_type": "code",
   "execution_count": 32,
   "id": "3f4ae1c5-cec2-4712-9a09-feaae6448424",
   "metadata": {},
   "outputs": [
    {
     "data": {
      "text/plain": [
       "float"
      ]
     },
     "execution_count": 32,
     "metadata": {},
     "output_type": "execute_result"
    }
   ],
   "source": [
    "#(iv)\n",
    "var4 = 1.\n",
    "type(var4)"
   ]
  },
  {
   "cell_type": "markdown",
   "id": "7371e082-3aaf-4ea1-8820-5f981c5c6faf",
   "metadata": {},
   "source": [
    "Q3. Explain the use of the following operators using an example:\n",
    "\n",
    "(i)\t/\n",
    "\n",
    "(ii)\t% \n",
    "\n",
    "(iii)\t//\n",
    "\n",
    "(iv)\t*"
   ]
  },
  {
   "cell_type": "code",
   "execution_count": 53,
   "id": "87214e07-059a-48d0-a092-895fbd387fc0",
   "metadata": {},
   "outputs": [
    {
     "data": {
      "text/plain": [
       "1.25"
      ]
     },
     "execution_count": 53,
     "metadata": {},
     "output_type": "execute_result"
    }
   ],
   "source": [
    "#(i) /  Division operator\n",
    "a = 5/4\n",
    "a"
   ]
  },
  {
   "cell_type": "code",
   "execution_count": 54,
   "id": "7a29056b-9b9a-4e1f-9ceb-26e58b87995d",
   "metadata": {},
   "outputs": [
    {
     "data": {
      "text/plain": [
       "1"
      ]
     },
     "execution_count": 54,
     "metadata": {},
     "output_type": "execute_result"
    }
   ],
   "source": [
    "#(ii) % Modulus operator\n",
    "b = 7%3\n",
    "b"
   ]
  },
  {
   "cell_type": "code",
   "execution_count": 56,
   "id": "9ffd8542-dde8-48d0-b799-38156b02f4c5",
   "metadata": {},
   "outputs": [
    {
     "data": {
      "text/plain": [
       "1"
      ]
     },
     "execution_count": 56,
     "metadata": {},
     "output_type": "execute_result"
    }
   ],
   "source": [
    "#(iii) // Floor divison operator\n",
    "c = 7//4\n",
    "c"
   ]
  },
  {
   "cell_type": "code",
   "execution_count": 62,
   "id": "7363bab9-514c-42b5-9208-a0c82f56b253",
   "metadata": {},
   "outputs": [
    {
     "data": {
      "text/plain": [
       "1296"
      ]
     },
     "execution_count": 62,
     "metadata": {},
     "output_type": "execute_result"
    }
   ],
   "source": [
    "#(iv) ** exponentiation operator\n",
    "d = 6**4\n",
    "d"
   ]
  },
  {
   "cell_type": "markdown",
   "id": "0c603751-a201-48d9-8e61-eb9973ba3a99",
   "metadata": {},
   "source": [
    "Q4. Create a list of length 10 of your choice containing multiple types of data. Using for loop print the \n",
    "element and its data type"
   ]
  },
  {
   "cell_type": "code",
   "execution_count": 68,
   "id": "439f65dd-23b5-4fe6-a5fa-efe4a911637c",
   "metadata": {},
   "outputs": [],
   "source": [
    "#Answer 4\n",
    "l = [1, True, 2.6, [2, 2.5, 'abc'], (1,2,'abc'), False, 'Arpit', 8, 9.8, 'Ten']"
   ]
  },
  {
   "cell_type": "code",
   "execution_count": 69,
   "id": "8eb3a625-069a-41e2-813d-4a69d0363032",
   "metadata": {},
   "outputs": [
    {
     "name": "stdout",
     "output_type": "stream",
     "text": [
      "1 - <class 'int'>\n",
      "True - <class 'bool'>\n",
      "2.6 - <class 'float'>\n",
      "[2, 2.5, 'abc'] - <class 'list'>\n",
      "(1, 2, 'abc') - <class 'tuple'>\n",
      "False - <class 'bool'>\n",
      "Arpit - <class 'str'>\n",
      "8 - <class 'int'>\n",
      "9.8 - <class 'float'>\n",
      "Ten - <class 'str'>\n"
     ]
    }
   ],
   "source": [
    "for i in l :\n",
    "    print(i ,'-', type(i))"
   ]
  },
  {
   "cell_type": "markdown",
   "id": "5255414f-9402-4a7c-8c66-de5cafe4e7dd",
   "metadata": {},
   "source": [
    "Q5. Using a while loop, verify if the number A is purely divisible by number B and if so then how many \n",
    "times it can be divisible"
   ]
  },
  {
   "cell_type": "code",
   "execution_count": 84,
   "id": "5fbc0f42-83cd-443b-8f97-9739a7b459de",
   "metadata": {},
   "outputs": [
    {
     "name": "stdout",
     "output_type": "stream",
     "text": [
      "the number of times A is purely divisible by B is  3\n"
     ]
    }
   ],
   "source": [
    "# Answer 5\n",
    "A = 56\n",
    "B = 2\n",
    "count = 0\n",
    "while A%B == 0:\n",
    "    A = A/B\n",
    "    count = count + 1\n",
    "print('the number of times A is purely divisible by B is ', count)"
   ]
  },
  {
   "cell_type": "markdown",
   "id": "71adde10-9762-49e9-990d-655f2e5df239",
   "metadata": {},
   "source": [
    "Q6. Create a list containing 25 int type data. Using for loop and if-else condition print if the element is \n",
    "divisible by 3 or not."
   ]
  },
  {
   "cell_type": "code",
   "execution_count": 92,
   "id": "cf7de49f-98ad-4cde-84e2-8d5f24c1dc19",
   "metadata": {},
   "outputs": [
    {
     "name": "stdout",
     "output_type": "stream",
     "text": [
      "1 is not divisible by 3\n",
      "2 is not divisible by 3\n",
      "3 is divisible by 3\n",
      "4 is not divisible by 3\n",
      "5 is not divisible by 3\n",
      "6 is divisible by 3\n",
      "7 is not divisible by 3\n",
      "8 is not divisible by 3\n",
      "9 is divisible by 3\n",
      "10 is not divisible by 3\n",
      "11 is not divisible by 3\n",
      "12 is divisible by 3\n",
      "13 is not divisible by 3\n",
      "14 is not divisible by 3\n",
      "15 is divisible by 3\n",
      "16 is not divisible by 3\n",
      "17 is not divisible by 3\n",
      "18 is divisible by 3\n",
      "19 is not divisible by 3\n",
      "20 is not divisible by 3\n",
      "21 is divisible by 3\n",
      "22 is not divisible by 3\n",
      "23 is not divisible by 3\n",
      "24 is divisible by 3\n",
      "25 is not divisible by 3\n"
     ]
    }
   ],
   "source": [
    "# Answer 6\n",
    "l = [1,2,3,4,5,6,7,8,9,10,11,12,13,14,15,16,17,18,19,20,21,22,23,24,25]\n",
    "for i in l:\n",
    "    if i % 3 == 0:\n",
    "        print(i, 'is divisible by 3')\n",
    "    else:\n",
    "        print(i, 'is not divisible by 3')\n"
   ]
  },
  {
   "cell_type": "markdown",
   "id": "406572fa-e9a1-47cb-ac1a-30c72dc569de",
   "metadata": {},
   "source": [
    "7. What do you understand about mutable and immutable data types? Give examples for both showing \n",
    "this property."
   ]
  },
  {
   "cell_type": "code",
   "execution_count": 98,
   "id": "1fef76e8-a3ed-4399-9df1-1c9fdfd868ff",
   "metadata": {},
   "outputs": [],
   "source": [
    "#Answer 7"
   ]
  },
  {
   "cell_type": "markdown",
   "id": "d06a22a4-ebcc-4a59-80e5-73bf26cb429a",
   "metadata": {},
   "source": [
    "The Mutable data types are data types which can be modified after being created example - List"
   ]
  },
  {
   "cell_type": "markdown",
   "id": "7d9596c7-33c5-474b-90c0-dc772f0d68e1",
   "metadata": {},
   "source": [
    "The Immutable data types are data types which cannot be modified after being created example - String"
   ]
  },
  {
   "cell_type": "code",
   "execution_count": 99,
   "id": "86ed6749-d281-43a1-b2d1-e8cee158790e",
   "metadata": {},
   "outputs": [],
   "source": [
    "#Give examples for both showing this property."
   ]
  },
  {
   "cell_type": "code",
   "execution_count": 100,
   "id": "cb3023a8-8c82-44b6-ac9a-f021c679bf09",
   "metadata": {},
   "outputs": [
    {
     "name": "stdout",
     "output_type": "stream",
     "text": [
      "[1, True, 3.6]\n"
     ]
    }
   ],
   "source": [
    "# Mutable\n",
    "l = [1, 'Arpit', 3.6]\n",
    "l[1] = True\n",
    "print(l)\n"
   ]
  },
  {
   "cell_type": "code",
   "execution_count": 101,
   "id": "3ea08285-2762-4f98-863f-4f116fb3bd29",
   "metadata": {},
   "outputs": [
    {
     "ename": "TypeError",
     "evalue": "'str' object does not support item assignment",
     "output_type": "error",
     "traceback": [
      "\u001b[0;31m---------------------------------------------------------------------------\u001b[0m",
      "\u001b[0;31mTypeError\u001b[0m                                 Traceback (most recent call last)",
      "Cell \u001b[0;32mIn[101], line 3\u001b[0m\n\u001b[1;32m      1\u001b[0m \u001b[38;5;66;03m# Immutable\u001b[39;00m\n\u001b[1;32m      2\u001b[0m s \u001b[38;5;241m=\u001b[39m \u001b[38;5;124m'\u001b[39m\u001b[38;5;124mArpit\u001b[39m\u001b[38;5;124m'\u001b[39m\n\u001b[0;32m----> 3\u001b[0m \u001b[43ms\u001b[49m\u001b[43m[\u001b[49m\u001b[38;5;241;43m2\u001b[39;49m\u001b[43m]\u001b[49m \u001b[38;5;241m=\u001b[39m \u001b[38;5;124m'\u001b[39m\u001b[38;5;124mc\u001b[39m\u001b[38;5;124m'\u001b[39m\n\u001b[1;32m      4\u001b[0m \u001b[38;5;28mprint\u001b[39m(s)\n",
      "\u001b[0;31mTypeError\u001b[0m: 'str' object does not support item assignment"
     ]
    }
   ],
   "source": [
    "# Immutable\n",
    "s = 'Arpit'\n",
    "s[2] = 'c'\n",
    "print(s)"
   ]
  },
  {
   "cell_type": "code",
   "execution_count": null,
   "id": "bacf4d67-faef-44ea-8926-e9cb75dbd1a5",
   "metadata": {},
   "outputs": [],
   "source": []
  }
 ],
 "metadata": {
  "kernelspec": {
   "display_name": "Python 3 (ipykernel)",
   "language": "python",
   "name": "python3"
  },
  "language_info": {
   "codemirror_mode": {
    "name": "ipython",
    "version": 3
   },
   "file_extension": ".py",
   "mimetype": "text/x-python",
   "name": "python",
   "nbconvert_exporter": "python",
   "pygments_lexer": "ipython3",
   "version": "3.10.8"
  }
 },
 "nbformat": 4,
 "nbformat_minor": 5
}
